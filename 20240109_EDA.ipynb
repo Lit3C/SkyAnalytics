{
  "nbformat": 4,
  "nbformat_minor": 0,
  "metadata": {
    "colab": {
      "provenance": [],
      "mount_file_id": "19iHyRToXIYlKCGki8ZnqUq7pNhPHcKTA",
      "authorship_tag": "ABX9TyO48mGutfwxY76+y0kMGFuu",
      "include_colab_link": true
    },
    "kernelspec": {
      "name": "python3",
      "display_name": "Python 3"
    },
    "language_info": {
      "name": "python"
    }
  },
  "cells": [
    {
      "cell_type": "markdown",
      "metadata": {
        "id": "view-in-github",
        "colab_type": "text"
      },
      "source": [
        "<a href=\"https://colab.research.google.com/github/Lit3C/SkyAnalytics/blob/main/20240109_EDA.ipynb\" target=\"_parent\"><img src=\"https://colab.research.google.com/assets/colab-badge.svg\" alt=\"Open In Colab\"/></a>"
      ]
    },
    {
      "cell_type": "code",
      "execution_count": 3,
      "metadata": {
        "id": "vfrPWJHmdEuZ"
      },
      "outputs": [],
      "source": [
        "import pandas as pd\n",
        "import numpy as np\n",
        "import matplotlib.pyplot as plt\n",
        "import seaborn as sns\n",
        "\n",
        "from datetime import datetime, timedelta\n",
        "import os\n",
        "from google.colab import files"
      ]
    },
    {
      "cell_type": "code",
      "source": [
        "df_aeronefs = pd.read_csv(f\"/content/drive/MyDrive/Colab_Notebooks/Projects/SkyAnalytics/data/aeronefs/aeronefs_2023-11-07.csv\")"
      ],
      "metadata": {
        "id": "qtRcQfdafmhm"
      },
      "execution_count": 4,
      "outputs": []
    }
  ]
}